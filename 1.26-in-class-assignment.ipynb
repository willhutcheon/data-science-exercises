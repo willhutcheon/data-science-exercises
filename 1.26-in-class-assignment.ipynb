{
 "cells": [
  {
   "cell_type": "code",
   "execution_count": 31,
   "id": "6a7f7e27",
   "metadata": {},
   "outputs": [
    {
     "name": "stdout",
     "output_type": "stream",
     "text": [
      "      Name  Age         City\n",
      "0    Alice   23     New York\n",
      "1      Bob   35  Los Angeles\n",
      "2  Charlie   45      Chicago\n",
      "3    David   36      Houston\n",
      "4      Eva   28      Phoenix\n"
     ]
    }
   ],
   "source": [
    "import pandas as pd\n",
    "\n",
    "data={\n",
    "    'Name':['Alice','Bob','Charlie','David','Eva'],\n",
    "    'Age':[23,35,45,36,28],\n",
    "    'City':['New York','Los Angeles','Chicago','Houston','Phoenix']\n",
    "}\n",
    "df=pd.DataFrame(data)\n",
    "print(df)"
   ]
  },
  {
   "cell_type": "code",
   "execution_count": 6,
   "id": "d897d541",
   "metadata": {},
   "outputs": [
    {
     "name": "stdout",
     "output_type": "stream",
     "text": [
      "Name    Charlie\n",
      "Age          45\n",
      "City    Chicago\n",
      "Name: 2, dtype: object\n"
     ]
    }
   ],
   "source": [
    "row_select=df.iloc[2]\n",
    "print(row_select)"
   ]
  },
  {
   "cell_type": "code",
   "execution_count": 33,
   "id": "0401ad68",
   "metadata": {},
   "outputs": [
    {
     "data": {
      "text/plain": [
       "0    23\n",
       "1    35\n",
       "2    45\n",
       "3    36\n",
       "4    28\n",
       "Name: Age, dtype: int64"
      ]
     },
     "execution_count": 33,
     "metadata": {},
     "output_type": "execute_result"
    }
   ],
   "source": [
    "#age_select=df.iloc[:,1]\n",
    "#print(age_select)\n",
    "\n",
    "df.iloc[:,1]"
   ]
  },
  {
   "cell_type": "code",
   "execution_count": 10,
   "id": "7332bd35",
   "metadata": {},
   "outputs": [
    {
     "name": "stdout",
     "output_type": "stream",
     "text": [
      "      Name  Age         City\n",
      "0    Alice   23     New York\n",
      "1      Bob   35  Los Angeles\n",
      "2  Charlie   45      Chicago\n"
     ]
    }
   ],
   "source": [
    "first_three_rows=df.iloc[:3]\n",
    "print(first_three_rows)"
   ]
  },
  {
   "cell_type": "code",
   "execution_count": 11,
   "id": "9f5323a7",
   "metadata": {},
   "outputs": [
    {
     "name": "stdout",
     "output_type": "stream",
     "text": [
      "      Name         City\n",
      "0    Alice     New York\n",
      "1      Bob  Los Angeles\n",
      "2  Charlie      Chicago\n"
     ]
    }
   ],
   "source": [
    "name_city=df.iloc[:3, [0, 2]]\n",
    "print(name_city)"
   ]
  },
  {
   "cell_type": "code",
   "execution_count": 13,
   "id": "8fd43b44",
   "metadata": {},
   "outputs": [
    {
     "name": "stdout",
     "output_type": "stream",
     "text": [
      "      Name  Age     City\n",
      "2  Charlie   45  Chicago\n"
     ]
    }
   ],
   "source": [
    "charlie_row=df.loc[df['Name']=='Charlie']\n",
    "print(charlie_row)"
   ]
  },
  {
   "cell_type": "code",
   "execution_count": 14,
   "id": "42f79d80",
   "metadata": {},
   "outputs": [
    {
     "name": "stdout",
     "output_type": "stream",
     "text": [
      "0    23\n",
      "1    35\n",
      "2    45\n",
      "3    36\n",
      "4    28\n",
      "Name: Age, dtype: int64\n"
     ]
    }
   ],
   "source": [
    "selected_age_column=df.loc[:,'Age']\n",
    "print(selected_age_column)"
   ]
  },
  {
   "cell_type": "code",
   "execution_count": 15,
   "id": "99a2e5ce",
   "metadata": {},
   "outputs": [
    {
     "name": "stdout",
     "output_type": "stream",
     "text": [
      "1    Los Angeles\n",
      "4        Phoenix\n",
      "Name: City, dtype: object\n"
     ]
    }
   ],
   "source": [
    "selected_cities=df.loc[df['Name'].isin(['Bob','Eva']),'City']\n",
    "print(selected_cities)"
   ]
  },
  {
   "cell_type": "code",
   "execution_count": 16,
   "id": "9d5d18b1",
   "metadata": {},
   "outputs": [
    {
     "name": "stdout",
     "output_type": "stream",
     "text": [
      "      Name  Age         City\n",
      "1      Bob   35  Los Angeles\n",
      "2  Charlie   45      Chicago\n",
      "3    David   36      Houston\n"
     ]
    }
   ],
   "source": [
    "selected_rows=df.loc[df['Age']>30]\n",
    "print(selected_rows)"
   ]
  },
  {
   "cell_type": "code",
   "execution_count": 17,
   "id": "5ec851b6",
   "metadata": {},
   "outputs": [
    {
     "name": "stdout",
     "output_type": "stream",
     "text": [
      "      Name  Age     City\n",
      "2  Charlie   45  Chicago\n",
      "3    David   36  Houston\n"
     ]
    }
   ],
   "source": [
    "selected_rows=df.loc[df['City'].isin(['Chicago','Houston'])]\n",
    "print(selected_rows)"
   ]
  },
  {
   "cell_type": "code",
   "execution_count": 18,
   "id": "329bb307",
   "metadata": {},
   "outputs": [
    {
     "name": "stdout",
     "output_type": "stream",
     "text": [
      "Age          36\n",
      "City    Houston\n",
      "Name: David, dtype: object\n"
     ]
    }
   ],
   "source": [
    "df.set_index('Name',inplace=True)\n",
    "selected_row=df.loc['David']\n",
    "print(selected_row)"
   ]
  },
  {
   "cell_type": "code",
   "execution_count": 34,
   "id": "23c13eb3",
   "metadata": {},
   "outputs": [
    {
     "name": "stdout",
     "output_type": "stream",
     "text": [
      "      Age         City\n",
      "Name                  \n",
      "Bob    35  Los Angeles\n",
      "Eva    28      Phoenix\n"
     ]
    }
   ],
   "source": [
    "df.set_index('Name',inplace=True)\n",
    "selected_data=df.loc[['Bob','Eva'],['Age','City']]\n",
    "print(selected_data)"
   ]
  },
  {
   "cell_type": "code",
   "execution_count": 23,
   "id": "5413f29d",
   "metadata": {},
   "outputs": [
    {
     "name": "stdout",
     "output_type": "stream",
     "text": [
      "    Product  Price  In Stock\n",
      "0     Apple    0.5      True\n",
      "1    Banana    0.3      True\n",
      "2    Carrot    0.4     False\n",
      "3  Doughnut    1.0      True\n",
      "4       Egg    0.2     False\n"
     ]
    }
   ],
   "source": [
    "data={\n",
    "'Product':['Apple','Banana','Carrot','Doughnut','Egg'],\n",
    "'Price':[0.5, 0.3, 0.4, 1.0, 0.2],\n",
    "'In Stock':[True,True,False,True,False]\n",
    "}\n",
    "df_new=pd.DataFrame(data)\n",
    "print(df_new)"
   ]
  },
  {
   "cell_type": "code",
   "execution_count": 26,
   "id": "460294d0",
   "metadata": {},
   "outputs": [
    {
     "name": "stdout",
     "output_type": "stream",
     "text": [
      "    Product  Price  In Stock\n",
      "0     Apple    0.5      True\n",
      "1    Banana    0.3      True\n",
      "3  Doughnut    1.0      True\n"
     ]
    }
   ],
   "source": [
    "in_stock_products=df_new.loc[df_new['In Stock']]\n",
    "print(in_stock_products)"
   ]
  },
  {
   "cell_type": "code",
   "execution_count": 27,
   "id": "8b6b19a8",
   "metadata": {},
   "outputs": [
    {
     "name": "stdout",
     "output_type": "stream",
     "text": [
      "    Product  Price  In Stock\n",
      "0     Apple    0.5      True\n",
      "1    Banana    0.3      True\n",
      "2    Carrot    0.4     False\n",
      "3  Doughnut    1.2      True\n",
      "4       Egg    0.2     False\n"
     ]
    }
   ],
   "source": [
    "df_new.loc[df_new['Product']=='Doughnut','Price'] = 1.2\n",
    "print(df_new)"
   ]
  },
  {
   "cell_type": "code",
   "execution_count": 28,
   "id": "592104d8",
   "metadata": {},
   "outputs": [
    {
     "name": "stdout",
     "output_type": "stream",
     "text": [
      "  Product  Price  In Stock\n",
      "1  Banana    0.3      True\n",
      "2  Carrot    0.4     False\n",
      "4     Egg    0.2     False\n"
     ]
    }
   ],
   "source": [
    "selected_products=df_new.loc[df_new['Price']<0.5]\n",
    "print(selected_products)"
   ]
  },
  {
   "cell_type": "code",
   "execution_count": 29,
   "id": "7b682389",
   "metadata": {},
   "outputs": [
    {
     "name": "stdout",
     "output_type": "stream",
     "text": [
      "  Product  Price\n",
      "2  Carrot    0.4\n",
      "4     Egg    0.2\n"
     ]
    }
   ],
   "source": [
    "not_in_stock_data=df_new.loc[~df_new['In Stock'],['Product','Price']]\n",
    "print(not_in_stock_data)"
   ]
  },
  {
   "cell_type": "code",
   "execution_count": null,
   "id": "6a2e73e7",
   "metadata": {},
   "outputs": [],
   "source": []
  }
 ],
 "metadata": {
  "kernelspec": {
   "display_name": "Python 3 (ipykernel)",
   "language": "python",
   "name": "python3"
  },
  "language_info": {
   "codemirror_mode": {
    "name": "ipython",
    "version": 3
   },
   "file_extension": ".py",
   "mimetype": "text/x-python",
   "name": "python",
   "nbconvert_exporter": "python",
   "pygments_lexer": "ipython3",
   "version": "3.11.5"
  }
 },
 "nbformat": 4,
 "nbformat_minor": 5
}
