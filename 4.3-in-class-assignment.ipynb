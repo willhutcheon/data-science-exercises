{
 "cells": [
  {
   "cell_type": "code",
   "execution_count": 3,
   "id": "51352ac2",
   "metadata": {},
   "outputs": [
    {
     "name": "stdout",
     "output_type": "stream",
     "text": [
      "Decision Tree Accuracy: 1.0\n",
      "Random Forest Accuracy: 1.0\n",
      "\n",
      "Feature Importance Comparison:\n",
      "             Feature  Decision Tree Importance  Random Forest Importance\n",
      "0  sepal length (cm)                  0.000000                  0.104105\n",
      "1   sepal width (cm)                  0.019110                  0.044605\n",
      "2  petal length (cm)                  0.893264                  0.417308\n",
      "3   petal width (cm)                  0.087626                  0.433982\n"
     ]
    }
   ],
   "source": [
    "from sklearn.datasets import load_iris\n",
    "from sklearn.model_selection import train_test_split\n",
    "from sklearn.tree import DecisionTreeClassifier\n",
    "from sklearn.ensemble import RandomForestClassifier\n",
    "import pandas as pd\n",
    "\n",
    "# Load Iris dataset\n",
    "iris=load_iris()\n",
    "X=iris.data\n",
    "y=iris.target\n",
    "# Split the data into training and testing sets (70% train, 30% test)\n",
    "X_train, X_test, y_train, y_test=train_test_split(X, y, test_size=0.3, random_state=42)\n",
    "# Create DataFrame\n",
    "df_train=pd.DataFrame(X_train, columns=iris.feature_names)\n",
    "df_train['species']=y_train\n",
    "# Build and Train Decision Tree Model\n",
    "dt_model=DecisionTreeClassifier(random_state=42)\n",
    "dt_model.fit(X_train, y_train)\n",
    "# Build and Train Random Forest Model\n",
    "rf_model=RandomForestClassifier(random_state=42)\n",
    "rf_model.fit(X_train, y_train)\n",
    "# Evaluate the Models\n",
    "dt_accuracy=dt_model.score(X_test, y_test)\n",
    "rf_accuracy=rf_model.score(X_test, y_test)\n",
    "print(\"Decision Tree Accuracy:\", dt_accuracy)\n",
    "print(\"Random Forest Accuracy:\", rf_accuracy)\n",
    "# Feature Importance Comparison between Decision Tree and Random Forest\n",
    "dt_feature_importances=dt_model.feature_importances_\n",
    "rf_feature_importances=rf_model.feature_importances_\n",
    "feature_importance_df=pd.DataFrame({\n",
    "    'Feature': iris.feature_names,\n",
    "    'Decision Tree Importance': dt_feature_importances,\n",
    "    'Random Forest Importance': rf_feature_importances\n",
    "})\n",
    "print(\"\\nFeature Importance Comparison:\")\n",
    "print(feature_importance_df)"
   ]
  },
  {
   "cell_type": "code",
   "execution_count": null,
   "id": "6212325b",
   "metadata": {},
   "outputs": [],
   "source": []
  }
 ],
 "metadata": {
  "kernelspec": {
   "display_name": "Python 3 (ipykernel)",
   "language": "python",
   "name": "python3"
  },
  "language_info": {
   "codemirror_mode": {
    "name": "ipython",
    "version": 3
   },
   "file_extension": ".py",
   "mimetype": "text/x-python",
   "name": "python",
   "nbconvert_exporter": "python",
   "pygments_lexer": "ipython3",
   "version": "3.11.5"
  }
 },
 "nbformat": 4,
 "nbformat_minor": 5
}
