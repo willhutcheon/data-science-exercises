{
 "cells": [
  {
   "cell_type": "code",
   "execution_count": 23,
   "id": "82c0add1",
   "metadata": {},
   "outputs": [
    {
     "name": "stdout",
     "output_type": "stream",
     "text": [
      "[46 34 63 51 52 60  4 96  7 67]\n",
      "First element: 46\n",
      "Last element: 67\n",
      "[[0.54131273 0.3299058  0.06850662]\n",
      " [0.19162278 0.85073865 0.61384856]\n",
      " [0.58282563 0.7014863  0.79749613]]\n"
     ]
    }
   ],
   "source": [
    "#Question 1\n",
    "import numpy as np\n",
    "\n",
    "random_array = np.random.randint(1, 101, size = 10)\n",
    "print(random_array)\n",
    "print(\"First element:\", random_array[0])\n",
    "print(\"Last element:\", random_array[-1])\n",
    "random_array_floats = np.random.rand(3, 3)\n",
    "print(random_array_floats)"
   ]
  },
  {
   "cell_type": "code",
   "execution_count": 26,
   "id": "7b410986",
   "metadata": {},
   "outputs": [
    {
     "name": "stdout",
     "output_type": "stream",
     "text": [
      "First row: [0.54131273 0.3299058  0.06850662]\n",
      "Last column: [0.06850662 0.61384856 0.79749613]\n",
      "Subarray consisting of the first two rows and first two columns:\n",
      "[[0.54131273 0.3299058 ]\n",
      " [0.19162278 0.85073865]]\n"
     ]
    }
   ],
   "source": [
    "#Question 2\n",
    "print(\"First row:\", random_array_floats[0])\n",
    "print(\"Last column:\", random_array_floats[:, -1])\n",
    "\n",
    "sub_array = random_array_floats[:2, :2]\n",
    "print(\"Subarray consisting of the first two rows and first two columns:\")\n",
    "print(sub_array)"
   ]
  },
  {
   "cell_type": "code",
   "execution_count": 16,
   "id": "33966a41",
   "metadata": {},
   "outputs": [
    {
     "name": "stdout",
     "output_type": "stream",
     "text": [
      "Random array 1: [70  1 42  1 43]\n",
      "Random array 2: [36 58 39 80  5]\n",
      "Adding the arrays: [106  59  81  81  48]\n",
      "Multiplying the arrays (element wise): [2520   58 1638   80  215]\n",
      "Square of every element in the first array: [4900    1 1764    1 1849]\n"
     ]
    }
   ],
   "source": [
    "#Question 3 \n",
    "random_array0 = np.random.randint(1, 101, size = 5)\n",
    "random_array1 = np.random.randint(1, 101, size = 5)\n",
    "print(\"Random array 1:\", random_array0)\n",
    "print(\"Random array 2:\", random_array1)\n",
    "add_result_array = random_array0 + random_array1\n",
    "print(\"Adding the arrays:\", add_result_array)\n",
    "multiply_result_array = random_array0 * random_array1\n",
    "print(\"Multiplying the arrays (element wise):\", multiply_result_array)\n",
    "square_result_array = random_array0 ** 2\n",
    "print(\"Square of every element in the first array:\", square_result_array)"
   ]
  },
  {
   "cell_type": "code",
   "execution_count": 20,
   "id": "f11c9a9a",
   "metadata": {},
   "outputs": [
    {
     "name": "stdout",
     "output_type": "stream",
     "text": [
      "Result of matrix multiplication between A and B:\n",
      "[[11653  5888]\n",
      " [ 8672  7176]]\n"
     ]
    }
   ],
   "source": [
    "#Question 4\n",
    "A = np.random.randint(1, 101, size = (2, 3))\n",
    "B = np.random.randint(1, 101, size = (3, 2))\n",
    "result = np.dot(A, B)\n",
    "print(\"Result of matrix multiplication between A and B:\")\n",
    "print(result)\n",
    "#No you cannot perform element-wise multiplication using the * operator because the array shapes are different."
   ]
  },
  {
   "cell_type": "code",
   "execution_count": null,
   "id": "d7f7d732",
   "metadata": {},
   "outputs": [],
   "source": []
  }
 ],
 "metadata": {
  "kernelspec": {
   "display_name": "Python 3 (ipykernel)",
   "language": "python",
   "name": "python3"
  },
  "language_info": {
   "codemirror_mode": {
    "name": "ipython",
    "version": 3
   },
   "file_extension": ".py",
   "mimetype": "text/x-python",
   "name": "python",
   "nbconvert_exporter": "python",
   "pygments_lexer": "ipython3",
   "version": "3.11.5"
  }
 },
 "nbformat": 4,
 "nbformat_minor": 5
}
