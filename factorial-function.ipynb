{
 "cells": [
  {
   "cell_type": "code",
   "execution_count": 2,
   "id": "ec194410",
   "metadata": {},
   "outputs": [],
   "source": [
    "def factorial(n):\n",
    "    if n == 0:\n",
    "        return 1\n",
    "    else:\n",
    "        return n * factorial(n - 1)\n",
    "        "
   ]
  },
  {
   "cell_type": "code",
   "execution_count": 3,
   "id": "eaeda92b",
   "metadata": {},
   "outputs": [
    {
     "data": {
      "text/plain": [
       "120"
      ]
     },
     "execution_count": 3,
     "metadata": {},
     "output_type": "execute_result"
    }
   ],
   "source": [
    "factorial(5)"
   ]
  },
  {
   "cell_type": "markdown",
   "id": "ba84ea26",
   "metadata": {},
   "source": [
    "# Jupyter description"
   ]
  },
  {
   "cell_type": "markdown",
   "id": "e7c6bdaa",
   "metadata": {},
   "source": [
    "Jupyter is a place to write and execute code"
   ]
  },
  {
   "cell_type": "markdown",
   "id": "8c6b7796",
   "metadata": {},
   "source": [
    "# Factorial function"
   ]
  },
  {
   "cell_type": "markdown",
   "id": "0029aad2",
   "metadata": {},
   "source": [
    "The factorial function recursively calculates the factorial of a positive integer input value. If the base case has not been satisfied, the function calls itself to run again until the base case is satisfied."
   ]
  },
  {
   "cell_type": "code",
   "execution_count": null,
   "id": "1a02e1d8",
   "metadata": {},
   "outputs": [],
   "source": []
  }
 ],
 "metadata": {
  "kernelspec": {
   "display_name": "Python 3 (ipykernel)",
   "language": "python",
   "name": "python3"
  },
  "language_info": {
   "codemirror_mode": {
    "name": "ipython",
    "version": 3
   },
   "file_extension": ".py",
   "mimetype": "text/x-python",
   "name": "python",
   "nbconvert_exporter": "python",
   "pygments_lexer": "ipython3",
   "version": "3.11.5"
  }
 },
 "nbformat": 4,
 "nbformat_minor": 5
}
