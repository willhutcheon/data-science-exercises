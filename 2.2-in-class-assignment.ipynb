{
 "cells": [
  {
   "cell_type": "code",
   "execution_count": 18,
   "id": "a4a1e8a6",
   "metadata": {},
   "outputs": [
    {
     "name": "stdout",
     "output_type": "stream",
     "text": [
      "INNER MERGE\n",
      "   StudentID     Name Grade\n",
      "0          3  Charlie     A\n",
      "1          4    David     B\n",
      "\n",
      "OUTER MERGE\n",
      "   StudentID     Name Grade\n",
      "0          1    Alice   NaN\n",
      "1          2      Bob   NaN\n",
      "2          3  Charlie     A\n",
      "3          4    David     B\n",
      "4          5      NaN     C\n",
      "5          6      NaN     D\n",
      "\n",
      "LEFT MERGE\n",
      "   StudentID     Name Grade\n",
      "0          1    Alice   NaN\n",
      "1          2      Bob   NaN\n",
      "2          3  Charlie     A\n",
      "3          4    David     B\n",
      "\n",
      "RIGHT MERGE\n",
      "   StudentID     Name Grade\n",
      "0          3  Charlie     A\n",
      "1          4    David     B\n",
      "2          5      NaN     C\n",
      "3          6      NaN     D\n"
     ]
    }
   ],
   "source": [
    "data1 = {\n",
    "    'StudentID': [1, 2, 3, 4],\n",
    "    'Name': ['Alice', 'Bob', 'Charlie', 'David']\n",
    "}\n",
    "df1 = pd.DataFrame(data1)\n",
    "data2 = {\n",
    "    'StudentID': [3, 4, 5, 6],\n",
    "    'Grade': ['A', 'B', 'C', 'D']\n",
    "}\n",
    "df2 = pd.DataFrame(data2)\n",
    "\n",
    "inner_merged_df = pd.merge(df1, df2, on='StudentID', how='inner')\n",
    "outer_merged_df = pd.merge(df1, df2, on='StudentID', how='outer')\n",
    "left_merged_df = pd.merge(df1, df2, on='StudentID', how='left')\n",
    "right_merged_df = pd.merge(df1, df2, on='StudentID', how='right')\n",
    "\n",
    "print(\"INNER MERGE\")\n",
    "print(inner_merged_df)\n",
    "print()\n",
    "print(\"OUTER MERGE\")\n",
    "print(outer_merged_df)\n",
    "print()\n",
    "print(\"LEFT MERGE\")\n",
    "print(left_merged_df)\n",
    "print()\n",
    "print(\"RIGHT MERGE\")\n",
    "print(right_merged_df)"
   ]
  },
  {
   "cell_type": "code",
   "execution_count": 20,
   "id": "09bff74e",
   "metadata": {},
   "outputs": [
    {
     "name": "stdout",
     "output_type": "stream",
     "text": [
      "  Salesperson  Quantity\n",
      "0       Alice         9\n",
      "1         Bob         8\n",
      "2     Charlie         4\n",
      "  Product  Quantity\n",
      "0  Gadget       3.0\n",
      "1  Widget       4.0\n"
     ]
    }
   ],
   "source": [
    "import pandas as pd\n",
    "\n",
    "data = {\n",
    "    'Salesperson': ['Alice', 'Bob', 'Charlie', 'Alice', 'Bob', 'Charlie'],\n",
    "    'Product': ['Widget', 'Widget', 'Gadget', 'Gadget', 'Widget', 'Gadget'],\n",
    "    'Quantity': [4, 2, 3, 5, 6, 1]\n",
    "}\n",
    "df = pd.DataFrame(data)\n",
    "grouped_data0 = df.groupby('Salesperson')['Quantity'].sum().reset_index()\n",
    "print(grouped_data0)\n",
    "grouped_data1 = df.groupby('Product')['Quantity'].mean().reset_index()\n",
    "print(grouped_data1)"
   ]
  },
  {
   "cell_type": "code",
   "execution_count": null,
   "id": "3874e5fd",
   "metadata": {},
   "outputs": [],
   "source": []
  }
 ],
 "metadata": {
  "kernelspec": {
   "display_name": "Python 3 (ipykernel)",
   "language": "python",
   "name": "python3"
  },
  "language_info": {
   "codemirror_mode": {
    "name": "ipython",
    "version": 3
   },
   "file_extension": ".py",
   "mimetype": "text/x-python",
   "name": "python",
   "nbconvert_exporter": "python",
   "pygments_lexer": "ipython3",
   "version": "3.11.5"
  }
 },
 "nbformat": 4,
 "nbformat_minor": 5
}
